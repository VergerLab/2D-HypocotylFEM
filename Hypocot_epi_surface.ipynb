{
 "cells": [
  {
   "cell_type": "code",
   "execution_count": null,
   "id": "7564d5ec",
   "metadata": {},
   "outputs": [],
   "source": [
    "import sys\n",
    "import os\n",
    "\n",
    "# Add the directory where function.py is located to the Python path\n",
    "sys.path.append(os.path.expanduser(\"./io_function/\"))\n",
    "\n",
    "from lib_fun import *"
   ]
  },
  {
   "cell_type": "code",
   "execution_count": null,
   "id": "ef6a31f8",
   "metadata": {},
   "outputs": [],
   "source": [
    "mesh_file = './www/Hypocot_epi_surface.geo'\n",
    "initial_scale = 0.01\n",
    "generate_mesh(mesh_file, initial_scale)\n",
    "mesh_path = './www/Hypocot_epi_surface.msh'\n",
    "cd = CustomDomainGmsh.read_and_convert_gmsh(path = mesh_path)"
   ]
  },
  {
   "cell_type": "code",
   "execution_count": null,
   "id": "26b6d037",
   "metadata": {
    "scrolled": true
   },
   "outputs": [],
   "source": [
    "plot(cd.cdata)"
   ]
  },
  {
   "cell_type": "code",
   "execution_count": null,
   "id": "0ad4a98d",
   "metadata": {},
   "outputs": [],
   "source": [
    "# Locate Boundaries            \n",
    "ymax = cd.mesh.coordinates()[:, 1].max()\n",
    "ymin = cd.mesh.coordinates()[:, 1].min()\n",
    "\n",
    "bottom_border = Boundary(f'near(y, {ymin})')\n",
    "top_border = Boundary(f'near(y, {ymax})')"
   ]
  },
  {
   "cell_type": "code",
   "execution_count": null,
   "id": "bb135dc6",
   "metadata": {},
   "outputs": [],
   "source": [
    "poiss = 0.3\n",
    "TP = 0.5\n",
    "Force = 2.5\n",
    "\n",
    "# Boundary conditions\n",
    "stretch = [dirichlet([0.,-Force,0.], boundary= bottom_border), # applied displ\n",
    "           dirichlet([0.0,Force,0.], boundary= top_border)] "
   ]
  },
  {
   "cell_type": "code",
   "execution_count": null,
   "id": "c7ca5523",
   "metadata": {},
   "outputs": [],
   "source": [
    "# Young's Modulus\n",
    "young_values_by_labels = {1:10000, 2:5000}\n",
    "heterogeneous_young = HeterogeneousParameter(cd.cdata, young_values_by_labels)\n",
    "heterogeneous_Hyperelastic_response = HyperElasticForm(young=heterogeneous_young, poisson = poiss,\n",
    "                                                   source=[0., 0., 0.],\n",
    "                                                   plane_stress=True)\n",
    "# Set up the BVP\n",
    "nl_stretch = BVP(domain=cd, vform=heterogeneous_Hyperelastic_response, bc=stretch)"
   ]
  },
  {
   "cell_type": "code",
   "execution_count": null,
   "id": "43ab05ef",
   "metadata": {},
   "outputs": [],
   "source": [
    "tolerance = 1e-11  # Initial tolerance\n",
    "nl_stretch.solve(linear_solver='superlu', absolute_tolerance=tolerance, relative_tolerance=tolerance)"
   ]
  },
  {
   "cell_type": "code",
   "execution_count": null,
   "id": "d7bd552c",
   "metadata": {},
   "outputs": [],
   "source": [
    "xdmf_save(path='./out/Epi_Surface/Hypocot_surface_softML.xdmf', solution=nl_stretch.solution, vform=heterogeneous_Hyperelastic_response)"
   ]
  },
  {
   "cell_type": "code",
   "execution_count": null,
   "id": "a41d5430",
   "metadata": {},
   "outputs": [],
   "source": [
    "# Young's Modulus\n",
    "young_values_by_labels = {1:5000, 2:10000}\n",
    "heterogeneous_young = HeterogeneousParameter(cd.cdata, young_values_by_labels)\n",
    "heterogeneous_Hyperelastic_response = HyperElasticForm(young=heterogeneous_young, poisson = poiss,\n",
    "                                                   source=[0., 0., 0.],\n",
    "                                                   plane_stress=True)\n",
    "# Set up the BVP\n",
    "nl_stretch = BVP(domain=cd, vform=heterogeneous_Hyperelastic_response, bc=stretch)"
   ]
  },
  {
   "cell_type": "code",
   "execution_count": null,
   "id": "f52b508a",
   "metadata": {},
   "outputs": [],
   "source": [
    "tolerance = 1e-11  # Initial tolerance\n",
    "nl_stretch.solve(linear_solver='superlu', absolute_tolerance=tolerance, relative_tolerance=tolerance)"
   ]
  },
  {
   "cell_type": "code",
   "execution_count": null,
   "id": "f3913777",
   "metadata": {},
   "outputs": [],
   "source": [
    "xdmf_save(path='./out/Epi_Surface/Hypocot_surface_softCW.xdmf', solution=nl_stretch.solution, vform=heterogeneous_Hyperelastic_response)"
   ]
  }
 ],
 "metadata": {
  "kernelspec": {
   "display_name": "Python 3 (ipykernel)",
   "language": "python",
   "name": "python3"
  },
  "language_info": {
   "codemirror_mode": {
    "name": "ipython",
    "version": 3
   },
   "file_extension": ".py",
   "mimetype": "text/x-python",
   "name": "python",
   "nbconvert_exporter": "python",
   "pygments_lexer": "ipython3",
   "version": "3.7.12"
  }
 },
 "nbformat": 4,
 "nbformat_minor": 5
}
