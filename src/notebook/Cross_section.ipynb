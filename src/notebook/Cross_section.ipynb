{
 "cells": [
  {
   "cell_type": "markdown",
   "id": "5112435c",
   "metadata": {},
   "source": [
    "# 2D cross section in a plant tissue\n",
    "\n",
    "This notebook contains the Finite Element Modeling (FEM) analysis code used to explore stress and strain distribution in 2D mesh of a cross section of a plant tissue: hexagnal cells snapped on concentric circles.\n",
    "\n",
    "> **NOTE**\n",
    "> The notebook should be run within a *hypocot_env* environment.\n",
    "\n",
    "Cell-cell adhesion plays a critical role in tissue integrity and controlled separation during development. Here, we investigate how adhesion mechanisms may take place under tension and turgor pressure within the \"adhesive layer model\".\n",
    "\n",
    "### Load libraries and dependencies\n",
    "\n",
    "All bvpy functions and classes that are related to this notebook will be loaded by sourcing lib_fun.\n",
    "\n",
    "> **Important**\n",
    "> The path to the \"input\", \"output\" functions (io_function) is relative to where the notebook was open.\n",
    "> In this case the notebook was open from the notebook folder."
   ]
  },
  {
   "cell_type": "code",
   "execution_count": null,
   "id": "0cd59ef4",
   "metadata": {},
   "outputs": [],
   "source": [
    "import sys\n",
    "import os\n",
    "\n",
    "# Add the directory where function.py is located to the Python path\n",
    "sys.path.append(os.path.expanduser(\"../io_function/\"))\n",
    "\n",
    "from lib_fun import *"
   ]
  },
  {
   "cell_type": "markdown",
   "id": "83bc318e",
   "metadata": {},
   "source": [
    "### Generating the Mesh\n",
    "\n",
    "Once the required libraries are loaded, the next step is to generate the mesh.\n",
    "\n",
    "> **Note**  \n",
    "> - The `generate_mesh()` function uses **GMSH** to create `.msh` files from `.geo` files, which define the physical surface attributes.  \n",
    "> - The `CustomDomainGmsh()` reads the `.msh` files and converts the data into a format compatible with **bvpy**."
   ]
  },
  {
   "cell_type": "code",
   "execution_count": null,
   "id": "c8d72a65",
   "metadata": {},
   "outputs": [],
   "source": [
    "mesh_file = '../../data/in/Orga_cross.geo'\n",
    "initial_scale = 0.1\n",
    "generate_mesh(mesh_file, initial_scale)\n",
    "mesh_path = '../../data/in/Orga_cross.msh'\n",
    "cd = CustomDomainGmsh(fname=mesh_path)"
   ]
  },
  {
   "cell_type": "markdown",
   "id": "6438d0a3",
   "metadata": {},
   "source": [
    "### Visualizing the Mesh\n",
    "\n",
    "To ensure the mesh has been correctly loaded and interpreted, you can visualize it using the following command:\n"
   ]
  },
  {
   "cell_type": "code",
   "execution_count": null,
   "id": "73f7dce4",
   "metadata": {},
   "outputs": [],
   "source": [
    "plot(cd)"
   ]
  },
  {
   "cell_type": "markdown",
   "id": "b0015e1a",
   "metadata": {},
   "source": [
    "### Locate the mesh nodes related to the boundary conditions\n",
    "\n",
    "The different boundaries are circular and coorspond to the outer part of the epidermis or the inner side of the center cell  "
   ]
  },
  {
   "cell_type": "code",
   "execution_count": null,
   "id": "a7033cf5",
   "metadata": {},
   "outputs": [],
   "source": [
    "out_wall = Boundary(f'near((x)*(x)+(y)*(y), 21.2*21.2, 4.5)')\n",
    "all_borders = Boundary('all')\n",
    "center = Boundary(f'near((x)*(x)+(y)*(y), 3,3)')\n",
    "inner_border = all_borders  & ~ out_wall"
   ]
  },
  {
   "cell_type": "markdown",
   "id": "4c2b3a7f",
   "metadata": {},
   "source": [
    "### Setting Boundary Conditions and Material Properties\n",
    "\n",
    "In the following cell, we define the boundary conditions, material properties, and the governing equations for the simulation. These parameters control how the mesh responds to external forces, displacements, and internal material properties.\n",
    "\n",
    "#### Boundary Conditions\n",
    "- **Turgor Pressure (`TP`)**: A normal force applied to the inner boundary of the mesh to simulate the internal pressure within cells.\n",
    "  \n",
    "The boundary conditions are implemented using:\n",
    "- `NormalNeumann`: Applies the turgor pressure as a normal force.  \n",
    "- `dirichlet`: Fixes specific displacement values at defined boundaries.\n",
    "\n",
    "#### Material Properties\n",
    "- **Poisson's Ratio (`poiss`)**: Specifies the material's lateral expansion relative to its longitudinal compression.  \n",
    "- **Young's Modulus (`young_values_by_labels`)**: Defines the stiffness of each subdomain, with values assigned based on the subdomain label.  \n",
    "\n",
    "#### Governing Equations\n",
    "- The **StVenantKirchoffPotential** defines the strain energy density function of a neo-hookean material. It is then attached to a hyperelastic variational form **HyperElasticForm**. This is essential for simulating realistic deformations under stress and strain.\n",
    "- Plane stress conditions are assumed for this 2D analysis.  \n",
    "\n",
    "#### Nonlinear Boundary Value Problem (BVP)\n",
    "The `BVP` class is used to set up and solve the system, combining the domain, variational formulation, and boundary conditions into a single framework. The `nl_inflation` object encapsulates this setup for further analysis.\n"
   ]
  },
  {
   "cell_type": "code",
   "execution_count": null,
   "id": "e861b6b4-0e11-4de5-9f23-8cf858c0fef0",
   "metadata": {},
   "outputs": [],
   "source": [
    "# Boundary conditions\n",
    "TP = 0.5\n",
    "#bc = [dirichlet([0., 0. , 0.], boundary = out_wall)]\n",
    "bc = [NormalNeumann(val=-TP, boundary=inner_border),\n",
    "     dirichlet([0., 0. , 0.], boundary = center)] #NormalNeumann(val=-TP,\n",
    "\n",
    "elastic_potential = StVenantKirchoffPotential(young=50, poisson=0.3)\n",
    "heterogeneous_Hyperelastic_response = HyperElasticForm(potential_energy=elastic_potential, source=[0., 0., 0.],\n",
    "                                                       plane_stress=True)\n",
    "\n",
    "cross_turgor = BVP(domain=cd, vform=heterogeneous_Hyperelastic_response, bc=bc)"
   ]
  },
  {
   "cell_type": "code",
   "execution_count": null,
   "id": "e5149957-b44c-478b-a1be-f5e47af2656c",
   "metadata": {},
   "outputs": [],
   "source": [
    "tolerance = 1e-10  # Initial tolerance\n",
    "cross_turgor.solve(linear_solver='mumps', krylov_solver={'absolute_tolerance':1e-13}, absolute_tolerance=tolerance, relative_tolerance=tolerance,\n",
    "          preconditioner = 'none',\n",
    "          maximum_iterations = 500)"
   ]
  },
  {
   "cell_type": "code",
   "execution_count": null,
   "id": "4e53cad4-61d3-4895-ba94-53a8e948d938",
   "metadata": {},
   "outputs": [],
   "source": [
    "filename = f\"../../data/out/cross/xdmf/cross_turgor_05.xdmf\"\n",
    "xdmf_save(path=filename, solution=cross_turgor.solution, vform=heterogeneous_Hyperelastic_response)"
   ]
  }
 ],
 "metadata": {
  "kernelspec": {
   "display_name": "Python 3 (ipykernel)",
   "language": "python",
   "name": "python3"
  },
  "language_info": {
   "codemirror_mode": {
    "name": "ipython",
    "version": 3
   },
   "file_extension": ".py",
   "mimetype": "text/x-python",
   "name": "python",
   "nbconvert_exporter": "python",
   "pygments_lexer": "ipython3",
   "version": "3.9.21"
  }
 },
 "nbformat": 4,
 "nbformat_minor": 5
}
