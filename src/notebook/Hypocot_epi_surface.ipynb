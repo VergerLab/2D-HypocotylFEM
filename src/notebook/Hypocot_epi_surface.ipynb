{
 "cells": [
  {
   "cell_type": "markdown",
   "id": "8a106bd5",
   "metadata": {},
   "source": [
    "# 2D Surface of a hypocotyl epidermis with staggered cell files\n",
    "\n",
    "This notebook contains the Finite Element Modeling (FEM) analysis code used to investigate stress and strain distribution \n",
    "in a 2D mesh representing the surface of a hypocotyl epidermis with staggered cell files, segmented into two subdomains: the cell and the interface between cells.\n",
    "\n",
    "> **Note**  \n",
    "> This notebook is designed to run within a *bvpy-dev_gmsh* environment.  \n",
    "\n",
    "Cell-cell adhesion is a fundamental aspect of tissue integrity. In this analysis, we explore how adhesion mechanisms function under mechanical tension, specifically considering the roles of the cell interface mechanical properties relatively to the cell wall domain.  \n",
    "\n",
    "### Libraries and Dependencies  \n",
    "\n",
    "All relevant **bvpy** functions and classes required for this analysis are loaded by sourcing `lib_fun`.  \n",
    "\n",
    "> **Important**  \n",
    "> File paths for input and output functions (`io_function`) are relative to the directory from which this notebook is executed. In this case, the notebook should be opened from the `notebook` folder."
   ]
  },
  {
   "cell_type": "code",
   "execution_count": null,
   "id": "7564d5ec",
   "metadata": {},
   "outputs": [],
   "source": [
    "import sys\n",
    "import os\n",
    "\n",
    "# Add the directory where function.py is located to the Python path\n",
    "sys.path.append(os.path.expanduser(\"../io_function/\"))\n",
    "\n",
    "from lib_fun import *"
   ]
  },
  {
   "cell_type": "markdown",
   "id": "3af75c70",
   "metadata": {},
   "source": [
    "### Generating the Mesh\n",
    "\n",
    "Once the required libraries are loaded, the next step is to generate the mesh.\n",
    "\n",
    "> **Note**  \n",
    "> - The `generate_mesh()` function uses **GMSH** to create `.msh` files from `.geo` files, which define the physical surface attributes.  \n",
    "> - The `read_and_convert_gmsh()` function reads the `.msh` files and converts the data into a format compatible with **bvpy**. This is done through the `CustomDomainGMSH` class."
   ]
  },
  {
   "cell_type": "code",
   "execution_count": null,
   "id": "ef6a31f8",
   "metadata": {},
   "outputs": [],
   "source": [
    "mesh_file = '../../data/in/Hypocot_epi_surface.geo'\n",
    "initial_scale = 0.01\n",
    "generate_mesh(mesh_file, initial_scale)\n",
    "mesh_path = '../../data/in/Hypocot_epi_surface.msh'\n",
    "cd = CustomDomainGmsh.read_and_convert_gmsh(path = mesh_path)"
   ]
  },
  {
   "cell_type": "markdown",
   "id": "5d7ec525",
   "metadata": {},
   "source": [
    "### Visualizing the Mesh\n",
    "\n",
    "To ensure the mesh has been correctly loaded and interpreted, you can visualize it using the following command:"
   ]
  },
  {
   "cell_type": "code",
   "execution_count": null,
   "id": "26b6d037",
   "metadata": {
    "scrolled": true
   },
   "outputs": [],
   "source": [
    "plot(cd.cdata)"
   ]
  },
  {
   "cell_type": "markdown",
   "id": "e980970f",
   "metadata": {},
   "source": [
    "### Locate the mesh nodes related to the boundary conditions\n"
   ]
  },
  {
   "cell_type": "code",
   "execution_count": null,
   "id": "0ad4a98d",
   "metadata": {},
   "outputs": [],
   "source": [
    "# Locate Boundaries            \n",
    "ymax = cd.mesh.coordinates()[:, 1].max()\n",
    "ymin = cd.mesh.coordinates()[:, 1].min()\n",
    "\n",
    "bottom_border = Boundary(f'near(y, {ymin})')\n",
    "top_border = Boundary(f'near(y, {ymax})')"
   ]
  },
  {
   "cell_type": "markdown",
   "id": "3c6e2f1b",
   "metadata": {},
   "source": [
    "### Setting Boundary Conditions and Material Properties\n",
    "\n",
    "In the following cell, we define the boundary conditions, material properties, and the governing equations for the simulation. These parameters control how the mesh responds to external forces, displacements, and internal material properties.\n",
    "\n",
    "#### Boundary Conditions\n",
    "- **Turgor Pressure (`TP`)**: A normal force applied to the inner boundary of the mesh to simulate the internal pressure within cells.  \n",
    "- **Displacement (`ApplyDispl`)**: A prescribed displacement applied at the top and bottom boundaries to simulate mechanical stretching.\n",
    "\n",
    "The boundary conditions are implemented using:\n",
    "- `NormalNeumann`: Applies the turgor pressure as a normal force.  \n",
    "- `dirichlet`: Fixes specific displacement values at defined boundaries.\n",
    "\n",
    "#### Material Properties\n",
    "- **Poisson's Ratio (`poiss`)**: Specifies the material's lateral expansion relative to its longitudinal compression.  \n",
    "- **Young's Modulus (`young_values_by_labels`)**: Defines the stiffness of each subdomain, with values assigned based on the subdomain label:\n",
    "    - **1** is the cell wall domain\n",
    "    - **2** is the cell interface domain\n",
    "\n",
    "#### Governing Equations\n",
    "- The **HyperElasticForm** is used to model the material's nonlinear elastic behavior. This is essential for simulating realistic large deformations.\n",
    "- Plane stress conditions are assumed for this 2D analysis.  \n",
    "\n",
    "#### Nonlinear Boundary Value Problem (BVP)\n",
    "The `BVP` class is used to set up and solve the system, combining the domain, variational formulation, and boundary conditions into a single framework. The `nl_stretch` object encapsulates this setup."
   ]
  },
  {
   "cell_type": "code",
   "execution_count": null,
   "id": "bb135dc6",
   "metadata": {},
   "outputs": [],
   "source": [
    "poiss = 0.3\n",
    "TP = 0.5\n",
    "ApplyDispl = 2.5\n",
    "\n",
    "# Boundary conditions\n",
    "stretch = [dirichlet([0.,-ApplyDispl,0.], boundary= bottom_border), # applied displ\n",
    "           dirichlet([0.0,ApplyDispl,0.], boundary= top_border)] \n",
    "\n",
    "# Young's Modulus\n",
    "young_values_by_labels = {1:10000, 2:5000}\n",
    "heterogeneous_young = HeterogeneousParameter(cd.cdata, young_values_by_labels)\n",
    "heterogeneous_Hyperelastic_response = HyperElasticForm(young=heterogeneous_young, poisson = poiss,\n",
    "                                                   source=[0., 0., 0.],\n",
    "                                                   plane_stress=True)\n",
    "# Set up the BVP\n",
    "nl_stretch = BVP(domain=cd, vform=heterogeneous_Hyperelastic_response, bc=stretch)"
   ]
  },
  {
   "cell_type": "markdown",
   "id": "c8af04a5",
   "metadata": {},
   "source": [
    "### Solving the Nonlinear System\n",
    "\n",
    "In this next step, we solve the nonlinear system representing the deformation of the mesh. The goal is to iteratively compute the equilibrium configuration of the mesh.\n",
    "\n",
    "#### Solver Configuration:\n",
    "- **`tolerance`**: Determines the precision of the solution. Both absolute and relative tolerances are set to `1e-11` to ensure high accuracy in the convergence process.  \n",
    "- **`nl_stretch.solve()`**: This method solves the nonlinear boundary value problem using iterative algorithms.  \n",
    "- **`linear_solver='superlu'`**: Specifies the use of the SuperLU linear solver for efficient and robust performance.  \n"
   ]
  },
  {
   "cell_type": "code",
   "execution_count": null,
   "id": "43ab05ef",
   "metadata": {},
   "outputs": [],
   "source": [
    "tolerance = 1e-11  # Initial tolerance\n",
    "nl_stretch.solve(linear_solver='superlu', absolute_tolerance=tolerance, relative_tolerance=tolerance)"
   ]
  },
  {
   "cell_type": "markdown",
   "id": "b919b420",
   "metadata": {},
   "source": [
    "### Saving the Simulation Results\n",
    "\n",
    "The results of the nonlinear stretch simulation are saved to an **XDMF** file for visualization and analysis. \n",
    "\n",
    "**Parameters**:\n",
    "  - **`path`**: Specifies the file path for saving the results. In this case, the file is saved to `../../data/out/Epi_Surface/Hypocot_surface_softML.xdmf`.\n",
    "  - **`solution`**: The computed solution from the `nl_stretch` object after solving it, representing the final configuration of the mesh after deformation.\n",
    "  - **`vform`**: The variational formulation (here, `heterogeneous_Hyperelastic_response`) that defines the material and mechanical properties applied during the simulation.\n",
    "\n",
    "Saving the results in this format allows for efficient post-processing and visualization in software like Paraview, enabling the analysis of stress and strain distributions across the hypocotyl epidermis model.\n"
   ]
  },
  {
   "cell_type": "code",
   "execution_count": null,
   "id": "d7bd552c",
   "metadata": {},
   "outputs": [],
   "source": [
    "xdmf_save(path='../../data/out/Epi_Surface/Hypocot_surface_softML.xdmf', solution=nl_stretch.solution, vform=heterogeneous_Hyperelastic_response)"
   ]
  },
  {
   "cell_type": "markdown",
   "id": "488da6d7",
   "metadata": {},
   "source": [
    "### Changing the material Properties\n",
    "- The **Young's Modulus** of each subdomain is inversed compared to the previous set-up.\n",
    "    - **1** is the cell wall domain\n",
    "    - **2** is the cell interface domain\n",
    "    \n",
    "### Seting-up the new Boundary Value Problem (BVP)"
   ]
  },
  {
   "cell_type": "code",
   "execution_count": null,
   "id": "a41d5430",
   "metadata": {},
   "outputs": [],
   "source": [
    "# Young's Modulus\n",
    "young_values_by_labels = {1:5000, 2:10000}\n",
    "heterogeneous_young = HeterogeneousParameter(cd.cdata, young_values_by_labels)\n",
    "heterogeneous_Hyperelastic_response = HyperElasticForm(young=heterogeneous_young, poisson = poiss,\n",
    "                                                   source=[0., 0., 0.],\n",
    "                                                   plane_stress=True)\n",
    "# Set up the BVP\n",
    "nl_stretch = BVP(domain=cd, vform=heterogeneous_Hyperelastic_response, bc=stretch)"
   ]
  },
  {
   "cell_type": "markdown",
   "id": "842b3ce2",
   "metadata": {},
   "source": [
    "### Solving the Nonlinear System\n"
   ]
  },
  {
   "cell_type": "code",
   "execution_count": null,
   "id": "f52b508a",
   "metadata": {},
   "outputs": [],
   "source": [
    "tolerance = 1e-11  # Initial tolerance\n",
    "nl_stretch.solve(linear_solver='superlu', absolute_tolerance=tolerance, relative_tolerance=tolerance)"
   ]
  },
  {
   "cell_type": "markdown",
   "id": "73b63e50",
   "metadata": {},
   "source": [
    "### Saving the Simulation Results"
   ]
  },
  {
   "cell_type": "code",
   "execution_count": null,
   "id": "f3913777",
   "metadata": {},
   "outputs": [],
   "source": [
    "xdmf_save(path='../../data/out/Epi_Surface/Hypocot_surface_softCW.xdmf', solution=nl_stretch.solution, vform=heterogeneous_Hyperelastic_response)"
   ]
  }
 ],
 "metadata": {
  "kernelspec": {
   "display_name": "Python 3 (ipykernel)",
   "language": "python",
   "name": "python3"
  },
  "language_info": {
   "codemirror_mode": {
    "name": "ipython",
    "version": 3
   },
   "file_extension": ".py",
   "mimetype": "text/x-python",
   "name": "python",
   "nbconvert_exporter": "python",
   "pygments_lexer": "ipython3",
   "version": "3.7.12"
  }
 },
 "nbformat": 4,
 "nbformat_minor": 5
}
