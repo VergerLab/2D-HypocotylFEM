{
 "cells": [
  {
   "cell_type": "markdown",
   "id": "5112435c",
   "metadata": {},
   "source": [
    "# 2D Hypocotyl longitudinal section in 2 buldged cells\n",
    "\n",
    "\n",
    "This notebook contains the Finite Element Modeling (FEM) analysis code used to explore stress and strain distribution in 2D mesh of a hypocotyl longitudinal section with two subdomains: the cell wall and the adhesive layer at the interface.\n",
    "\n",
    "> **NOTE**\n",
    "> The notebook should be run within a *hypocot_env* environment.\n",
    "\n",
    "Cell-cell adhesion plays a critical role in tissue integrity and controlled separation during development. Here, we investigate how adhesion mechanisms may take place under tension and turgor pressure within the \"adhesive layer model\".\n",
    "\n",
    "### Load libraries and dependencies\n",
    "\n",
    "All bvpy functions and classes that are related to this notebook will be loaded by sourcing lib_fun.\n",
    "\n",
    "> **NOTE**\n",
    "> The path to the \"input\", \"output\" functions (io_function) is relative to where the notebook was open.\n",
    "> In this case the notebook was open from the notebook folder."
   ]
  },
  {
   "cell_type": "code",
   "execution_count": null,
   "id": "0cd59ef4",
   "metadata": {},
   "outputs": [],
   "source": [
    "import sys\n",
    "import os\n",
    "\n",
    "# Add the directory where function.py is located to the Python path\n",
    "sys.path.append(os.path.expanduser(\"../io_function/\"))\n",
    "\n",
    "from lib_fun import *"
   ]
  },
  {
   "cell_type": "markdown",
   "id": "83bc318e",
   "metadata": {},
   "source": [
    "### Generating the Mesh\n",
    "\n",
    "Once the required libraries are loaded, the next step is to generate the mesh.\n",
    "\n",
    "> **Note**  \n",
    "> - The `generate_mesh()` function uses **GMSH** to create `.msh` files from `.geo` files, which define the physical surface attributes.  \n",
    "> - The `CustomDomainGmsh()` reads the `.msh` files and converts the data into a format compatible with **bvpy**."
   ]
  },
  {
   "cell_type": "code",
   "execution_count": null,
   "id": "c8d72a65",
   "metadata": {},
   "outputs": [],
   "source": [
    "mesh_file = '../../data/in/2C_buldged.geo'\n",
    "initial_scale = 0.08\n",
    "generate_mesh(mesh_file, initial_scale)\n",
    "mesh_path = '../../data/in/2C_buldged.msh'\n",
    "cd = CustomDomainGmsh(fname=mesh_path)"
   ]
  },
  {
   "cell_type": "markdown",
   "id": "6438d0a3",
   "metadata": {},
   "source": [
    "### Visualizing the Mesh\n",
    "\n",
    "To ensure the mesh has been correctly loaded and interpreted, you can visualize it using the following command:\n"
   ]
  },
  {
   "cell_type": "code",
   "execution_count": null,
   "id": "73f7dce4",
   "metadata": {},
   "outputs": [],
   "source": [
    "plot(cd.cdata)"
   ]
  },
  {
   "cell_type": "markdown",
   "id": "b0015e1a",
   "metadata": {},
   "source": [
    "### Locate the mesh nodes related to the boundary conditions\n",
    "\n",
    "The different tbc are the curves that coorspond to the curvature of the edge due to initial bulging of the cells  "
   ]
  },
  {
   "cell_type": "code",
   "execution_count": null,
   "id": "a7033cf5",
   "metadata": {},
   "outputs": [],
   "source": [
    "\n",
    "# Locate Boundaries            \n",
    "xmax = cd.mesh.coordinates()[:, 0].max()\n",
    "xmin = cd.mesh.coordinates()[:, 0].min()\n",
    "ymax = cd.mesh.coordinates()[:, 1].max()\n",
    "ymin = cd.mesh.coordinates()[:, 1].min()\n",
    "\n",
    "left_border = Boundary(f'near(x, {xmin})') \n",
    "right_border = Boundary(f'near(x, {xmax})') \n",
    "bottom_border = Boundary(f'near(y, {ymin}, 0.19)')\n",
    "top_border = Boundary(f'near(y, {ymax}, 0.19)')\n",
    "tbc1 = Boundary(f'near(x*0.17+10.4-y, 0, 0.1)')\n",
    "tbc2 = Boundary(f'near(x*-0.17-0.05-y, 0, 0.1)')\n",
    "tbc3 = Boundary(f'near(x*0.17-6.95-y, 0, 0.1)')\n",
    "tbc4 = Boundary(f'near(x*-0.17+17.3-y, 0, 0.1)')\n",
    "tbc5 = Boundary(f'near((x-20.25)*(x-20.25)/20+10.5-y, 0, 0.12)')\n",
    "tbc6 = Boundary(f'near((x-20.25)*(x-20.25)/50+10.7-y, 0, 0.1)')\n",
    "tbc7 = Boundary(f'near(-((x-20.25)*(x-20.25))/20-y-0.15, 0, 0.12)')\n",
    "tbc8 = Boundary(f'near(-((x-20.25)*(x-20.25))/50-y-0.3, 0, 0.1)')\n",
    "tbc9 = Boundary(f'near(-((x-20.25)*(x-20.25))/5-y, 0, 0.05)')\n",
    "\n",
    "all_borders = Boundary('all')\n",
    "inner_border = all_borders & ~ left_border & ~ right_border & ~ top_border & ~ bottom_border & ~ tbc1 & ~ tbc2 & ~ tbc3 & ~ tbc4 & ~tbc5 & ~tbc6 & ~tbc7 & ~tbc8 & ~tbc9"
   ]
  },
  {
   "cell_type": "markdown",
   "id": "4c2b3a7f",
   "metadata": {},
   "source": [
    "### Setting Boundary Conditions and Material Properties\n",
    "\n",
    "In the following cell, we define the boundary conditions, material properties, and the governing equations for the simulation. These parameters control how the mesh responds to external forces, displacements, and internal material properties.\n",
    "\n",
    "#### Boundary Conditions\n",
    "- **Turgor Pressure (`TP`)**: A normal force applied to the inner boundary of the mesh to simulate the internal pressure within cells.  \n",
    "- **Displacement (`ApplyDispl`)**: A prescribed displacement applied at the left and right boundaries to simulate mechanical stretching.\n",
    "\n",
    "The boundary conditions are implemented using:\n",
    "- `NormalNeumann`: Applies the turgor pressure as a normal force.  \n",
    "- `dirichlet`: Fixes specific displacement values at defined boundaries.\n",
    "\n",
    "#### Material Properties\n",
    "- **Poisson's Ratio (`poiss`)**: Specifies the material's lateral expansion relative to its longitudinal compression.  \n",
    "- **Young's Modulus (`young_values_by_labels`)**: Defines the stiffness of each subdomain, with values assigned based on the subdomain label.  \n",
    "\n",
    "#### Governing Equations\n",
    "- The **StVenantKirchoffPotential** defines the strain energy density function of a neo-hookean material. It is then attached to a hyperelastic variational form **HyperElasticForm**. This is essential for simulating realistic deformations under stress and strain.\n",
    "- Plane stress conditions are assumed for this 2D analysis.  \n",
    "\n",
    "#### Nonlinear Boundary Value Problem (BVP)\n",
    "The `BVP` class is used to set up and solve the system, combining the domain, variational formulation, and boundary conditions into a single framework. The `nl_inflation` object encapsulates this setup for further analysis.\n"
   ]
  },
  {
   "cell_type": "code",
   "execution_count": null,
   "id": "44565f3f",
   "metadata": {},
   "outputs": [],
   "source": [
    "poiss = 0.3\n",
    "TP = 0.5\n",
    "ApplyDispl = 0.5\n",
    "\n",
    "# Boundary conditions\n",
    "stretch = [NormalNeumann(val=-TP, boundary=inner_border),\n",
    "           dirichlet([-ApplyDispl,0.0,0.], boundary= left_border), # applied displ\n",
    "           dirichlet([ApplyDispl,0.,0.], boundary= right_border)] \n",
    "\n",
    "# Young's Modulus\n",
    "young_values_by_labels = {1:10000, 2:5000}\n",
    "heterogeneous_young = HeterogeneousParameter(cd.cdata, young_values_by_labels)\n",
    "elastic_potential = StVenantKirchoffPotential(young=heterogeneous_young, poisson=poiss)\n",
    "heterogeneous_Hyperelastic_response = HyperElasticForm(potential_energy=elastic_potential, source=[0., 0., 0.],\n",
    "                                                       plane_stress=True)\n",
    "\n",
    "# Set up the BVP\n",
    "nl_inflation = BVP(domain=cd, vform=heterogeneous_Hyperelastic_response, bc=stretch)"
   ]
  },
  {
   "cell_type": "markdown",
   "id": "5b15e3d1",
   "metadata": {},
   "source": [
    "### Solving the Nonlinear System\n",
    "\n",
    "In this next step, we solve the nonlinear system representing the deformation of the mesh. The goal is to iteratively compute the equilibrium configuration of the mesh.\n",
    "\n",
    "#### Solver Configuration:\n",
    "- **`tolerance`**: Determines the precision of the solution. Both absolute and relative tolerances are set to `1e-9` to ensure high accuracy in the convergence process.  \n",
    "- **`nl_stretch.solve()`**: This method solves the nonlinear boundary value problem using iterative algorithms.  \n",
    "- **`linear_solver='mumps'`**: Specifies the use of the SuperLU linear solver for efficient and robust performance.\n",
    "- **`krylov_solver`**: Sets additional properties for the Krylov subspace solver"
   ]
  },
  {
   "cell_type": "code",
   "execution_count": null,
   "id": "d9848085",
   "metadata": {},
   "outputs": [],
   "source": [
    "tolerance = 1e-9  # Initial tolerance\n",
    "nl_inflation.solve(linear_solver='mumps', krylov_solver={'absolute_tolerance':1e-13}, absolute_tolerance=tolerance, relative_tolerance=tolerance)"
   ]
  },
  {
   "cell_type": "markdown",
   "id": "6aab1c1f",
   "metadata": {},
   "source": [
    "### Saving the Simulation Results\n",
    "\n",
    "The results of the nonlinear stretch simulation are saved to an **XDMF** file for visualization and analysis. \n",
    "\n",
    "**Parameters**:\n",
    "  - **`path`**: Specifies the file path for saving the results. In this case, the file is saved to `../../data/out/2BuldgedCells/two_cells_buldged.xdmf`.\n",
    "  - **`solution`**: The computed solution from the `nl_inflation` object after solving it, representing the final configuration of the mesh after deformation.\n",
    "  - **`vform`**: The variational formulation (`heterogeneous_Hyperelastic_response`) that defines the material and mechanical properties applied during the simulation.\n",
    "\n",
    "Saving the results in this format allows for efficient post-processing and visualization in software like Paraview, enabling the analysis of stress and strain distributions across the hypocotyl epidermis model."
   ]
  },
  {
   "cell_type": "code",
   "execution_count": null,
   "id": "fe62662a",
   "metadata": {},
   "outputs": [],
   "source": [
    "\n",
    "xdmf_save(path=\"../../data/out/2BuldgedCells/two_cells_buldged_01.xdmf\", solution=nl_inflation.solution, vform=heterogeneous_Hyperelastic_response)"
   ]
  }
 ],
 "metadata": {
  "kernelspec": {
   "display_name": "Python 3 (ipykernel)",
   "language": "python",
   "name": "python3"
  },
  "language_info": {
   "codemirror_mode": {
    "name": "ipython",
    "version": 3
   },
   "file_extension": ".py",
   "mimetype": "text/x-python",
   "name": "python",
   "nbconvert_exporter": "python",
   "pygments_lexer": "ipython3",
   "version": "3.9.20"
  }
 },
 "nbformat": 4,
 "nbformat_minor": 5
}
