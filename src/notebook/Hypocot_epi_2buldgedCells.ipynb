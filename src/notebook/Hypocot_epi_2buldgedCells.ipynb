{
 "cells": [
  {
   "cell_type": "code",
   "execution_count": null,
   "id": "0cd59ef4",
   "metadata": {},
   "outputs": [],
   "source": [
    "import sys\n",
    "import os\n",
    "\n",
    "# Add the directory where function.py is located to the Python path\n",
    "sys.path.append(os.path.expanduser(\"./io_function/\"))\n",
    "\n",
    "from lib_fun import *"
   ]
  },
  {
   "cell_type": "code",
   "execution_count": null,
   "id": "c8d72a65",
   "metadata": {},
   "outputs": [],
   "source": [
    "mesh_file = './www/2C_buldged.geo'\n",
    "initial_scale = 0.08\n",
    "generate_mesh(mesh_file, initial_scale)\n",
    "mesh_path = './www/2C_buldged.msh'\n",
    "cd = CustomDomainGmsh.read_and_convert_gmsh(path = mesh_path)"
   ]
  },
  {
   "cell_type": "code",
   "execution_count": null,
   "id": "73f7dce4",
   "metadata": {},
   "outputs": [],
   "source": [
    "plot(cd.cdata)"
   ]
  },
  {
   "cell_type": "code",
   "execution_count": null,
   "id": "a7033cf5",
   "metadata": {},
   "outputs": [],
   "source": [
    "\n",
    "# Locate Boundaries            \n",
    "xmax = cd.mesh.coordinates()[:, 0].max()\n",
    "xmin = cd.mesh.coordinates()[:, 0].min()\n",
    "ymax = cd.mesh.coordinates()[:, 1].max()\n",
    "ymin = cd.mesh.coordinates()[:, 1].min()\n",
    "\n",
    "left_border = Boundary(f'near(x, {xmin})') \n",
    "right_border = Boundary(f'near(x, {xmax})') \n",
    "bottom_border = Boundary(f'near(y, {ymin}, 0.19)')\n",
    "top_border = Boundary(f'near(y, {ymax}, 0.19)')\n",
    "tbc1 = Boundary(f'near(x*0.17+10.4-y, 0, 0.1)')\n",
    "tbc2 = Boundary(f'near(x*-0.17-0.05-y, 0, 0.1)')\n",
    "tbc3 = Boundary(f'near(x*0.17-6.95-y, 0, 0.1)')\n",
    "tbc4 = Boundary(f'near(x*-0.17+17.3-y, 0, 0.1)')\n",
    "tbc5 = Boundary(f'near((x-20.25)*(x-20.25)/20+10.5-y, 0, 0.12)')\n",
    "tbc6 = Boundary(f'near((x-20.25)*(x-20.25)/50+10.7-y, 0, 0.1)')\n",
    "tbc7 = Boundary(f'near(-((x-20.25)*(x-20.25))/20-y-0.15, 0, 0.12)')\n",
    "tbc8 = Boundary(f'near(-((x-20.25)*(x-20.25))/50-y-0.3, 0, 0.1)')\n",
    "tbc9 = Boundary(f'near(-((x-20.25)*(x-20.25))/5-y, 0, 0.05)')\n",
    "\n",
    "all_borders = Boundary('all')\n",
    "inner_border = all_borders & ~ left_border & ~ right_border & ~ top_border & ~ bottom_border & ~ tbc1 & ~ tbc2 & ~ tbc3 & ~ tbc4 & ~tbc5 & ~tbc6 & ~tbc7 & ~tbc8 & ~tbc9"
   ]
  },
  {
   "cell_type": "code",
   "execution_count": null,
   "id": "44565f3f",
   "metadata": {},
   "outputs": [],
   "source": [
    "poiss = 0.3\n",
    "TP = 0.5\n",
    "Force = 0.5\n",
    "\n",
    "# Boundary conditions\n",
    "stretch = [NormalNeumann(val=-TP, boundary=inner_border),\n",
    "           dirichlet([-Force,0.0,0.], boundary= left_border), # applied displ\n",
    "           dirichlet([Force,0.,0.], boundary= right_border)] \n",
    "\n",
    "# Young's Modulus\n",
    "young_values_by_labels = {1:10000, 2:5000}\n",
    "heterogeneous_young = HeterogeneousParameter(cd.cdata, young_values_by_labels)\n",
    "heterogeneous_Hyperelastic_response = HyperElasticForm(young=heterogeneous_young, poisson = poiss,\n",
    "                                                   source=[0., 0., 0.],\n",
    "                                                   plane_stress=True)\n",
    "# Set up the BVP\n",
    "nl_inflation = BVP(domain=cd, vform=heterogeneous_Hyperelastic_response, bc=stretch)"
   ]
  },
  {
   "cell_type": "code",
   "execution_count": null,
   "id": "d9848085",
   "metadata": {},
   "outputs": [],
   "source": [
    "tolerance = 1e-11  # Initial tolerance\n",
    "nl_inflation.solve(linear_solver='superlu', absolute_tolerance=tolerance, relative_tolerance=tolerance)"
   ]
  }
 ],
 "metadata": {
  "kernelspec": {
   "display_name": "Python 3 (ipykernel)",
   "language": "python",
   "name": "python3"
  },
  "language_info": {
   "codemirror_mode": {
    "name": "ipython",
    "version": 3
   },
   "file_extension": ".py",
   "mimetype": "text/x-python",
   "name": "python",
   "nbconvert_exporter": "python",
   "pygments_lexer": "ipython3",
   "version": "3.7.12"
  }
 },
 "nbformat": 4,
 "nbformat_minor": 5
}
